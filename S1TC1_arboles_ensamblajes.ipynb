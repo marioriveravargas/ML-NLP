{
 "cells": [
  {
   "cell_type": "markdown",
   "metadata": {},
   "source": [
    "![image info](https://raw.githubusercontent.com/albahnsen/MIAD_ML_and_NLP/main/images/banner_1.png)"
   ]
  },
  {
   "cell_type": "markdown",
   "metadata": {},
   "source": [
    "# Taller: Construcción e implementación de árboles de decisión y métodos de ensamblaje\n",
    "\n",
    "En este taller podrá poner en práctica los sus conocimientos sobre construcción e implementación de árboles de decisión y métodos de ensamblajes. El taller está constituido por 9 puntos, 5 relacionados con árboles de decisión (parte A) y 4 con métodos de ensamblaje (parte B)."
   ]
  },
  {
   "cell_type": "markdown",
   "metadata": {},
   "source": [
    "## Parte A - Árboles de decisión\n",
    "\n",
    "En esta parte del taller se usará el conjunto de datos de Capital Bikeshare de Kaggle, donde cada observación representa el alquiler de una bicicleta durante una hora y día determinado. Para más detalles puede visitar los siguientes enlaces: [datos](https://github.com/justmarkham/DAT8/blob/master/data/bikeshare.csv), [dicccionario de datos](https://www.kaggle.com/c/bike-sharing-demand/data)."
   ]
  },
  {
   "cell_type": "markdown",
   "metadata": {},
   "source": [
    "### Datos prestamo de bicicletas"
   ]
  },
  {
   "cell_type": "code",
   "execution_count": 1,
   "metadata": {},
   "outputs": [],
   "source": [
    "import warnings\n",
    "warnings.filterwarnings('ignore')"
   ]
  },
  {
   "cell_type": "code",
   "execution_count": 68,
   "metadata": {},
   "outputs": [],
   "source": [
    "# Importación de librerías\n",
    "%matplotlib inline\n",
    "from matplotlib import pyplot as plt\n",
    "import pandas as pd\n",
    "import numpy as np\n",
    "from sklearn.model_selection import cross_val_score\n",
    "from sklearn.linear_model import LinearRegression\n",
    "from sklearn.cross_decomposition import PLSRegression\n",
    "from sklearn.tree import DecisionTreeClassifier\n",
    "from sklearn.tree import DecisionTreeRegressor\n",
    "from sklearn import metrics\n",
    "from sklearn import datasets\n",
    "from sklearn.model_selection import train_test_split\n",
    "from sklearn.metrics import confusion_matrix, accuracy_score, precision_score, recall_score, f1_score, classification_report, plot_roc_curve\n",
    "from sklearn.naive_bayes import GaussianNB\n",
    "from sklearn.discriminant_analysis import LinearDiscriminantAnalysis, QuadraticDiscriminantAnalysis\n",
    "import matplotlib.pyplot as plt\n",
    "import seaborn as sns\n",
    "import scikitplot as skplt"
   ]
  },
  {
   "cell_type": "code",
   "execution_count": 3,
   "metadata": {},
   "outputs": [
    {
     "data": {
      "text/html": [
       "<div>\n",
       "<style scoped>\n",
       "    .dataframe tbody tr th:only-of-type {\n",
       "        vertical-align: middle;\n",
       "    }\n",
       "\n",
       "    .dataframe tbody tr th {\n",
       "        vertical-align: top;\n",
       "    }\n",
       "\n",
       "    .dataframe thead th {\n",
       "        text-align: right;\n",
       "    }\n",
       "</style>\n",
       "<table border=\"1\" class=\"dataframe\">\n",
       "  <thead>\n",
       "    <tr style=\"text-align: right;\">\n",
       "      <th></th>\n",
       "      <th>season</th>\n",
       "      <th>holiday</th>\n",
       "      <th>workingday</th>\n",
       "      <th>weather</th>\n",
       "      <th>temp</th>\n",
       "      <th>atemp</th>\n",
       "      <th>humidity</th>\n",
       "      <th>windspeed</th>\n",
       "      <th>casual</th>\n",
       "      <th>registered</th>\n",
       "      <th>total</th>\n",
       "      <th>hour</th>\n",
       "    </tr>\n",
       "    <tr>\n",
       "      <th>datetime</th>\n",
       "      <th></th>\n",
       "      <th></th>\n",
       "      <th></th>\n",
       "      <th></th>\n",
       "      <th></th>\n",
       "      <th></th>\n",
       "      <th></th>\n",
       "      <th></th>\n",
       "      <th></th>\n",
       "      <th></th>\n",
       "      <th></th>\n",
       "      <th></th>\n",
       "    </tr>\n",
       "  </thead>\n",
       "  <tbody>\n",
       "    <tr>\n",
       "      <th>2011-01-01 00:00:00</th>\n",
       "      <td>1</td>\n",
       "      <td>0</td>\n",
       "      <td>0</td>\n",
       "      <td>1</td>\n",
       "      <td>9.84</td>\n",
       "      <td>14.395</td>\n",
       "      <td>81</td>\n",
       "      <td>0.0</td>\n",
       "      <td>3</td>\n",
       "      <td>13</td>\n",
       "      <td>16</td>\n",
       "      <td>0</td>\n",
       "    </tr>\n",
       "    <tr>\n",
       "      <th>2011-01-01 01:00:00</th>\n",
       "      <td>1</td>\n",
       "      <td>0</td>\n",
       "      <td>0</td>\n",
       "      <td>1</td>\n",
       "      <td>9.02</td>\n",
       "      <td>13.635</td>\n",
       "      <td>80</td>\n",
       "      <td>0.0</td>\n",
       "      <td>8</td>\n",
       "      <td>32</td>\n",
       "      <td>40</td>\n",
       "      <td>1</td>\n",
       "    </tr>\n",
       "    <tr>\n",
       "      <th>2011-01-01 02:00:00</th>\n",
       "      <td>1</td>\n",
       "      <td>0</td>\n",
       "      <td>0</td>\n",
       "      <td>1</td>\n",
       "      <td>9.02</td>\n",
       "      <td>13.635</td>\n",
       "      <td>80</td>\n",
       "      <td>0.0</td>\n",
       "      <td>5</td>\n",
       "      <td>27</td>\n",
       "      <td>32</td>\n",
       "      <td>2</td>\n",
       "    </tr>\n",
       "    <tr>\n",
       "      <th>2011-01-01 03:00:00</th>\n",
       "      <td>1</td>\n",
       "      <td>0</td>\n",
       "      <td>0</td>\n",
       "      <td>1</td>\n",
       "      <td>9.84</td>\n",
       "      <td>14.395</td>\n",
       "      <td>75</td>\n",
       "      <td>0.0</td>\n",
       "      <td>3</td>\n",
       "      <td>10</td>\n",
       "      <td>13</td>\n",
       "      <td>3</td>\n",
       "    </tr>\n",
       "    <tr>\n",
       "      <th>2011-01-01 04:00:00</th>\n",
       "      <td>1</td>\n",
       "      <td>0</td>\n",
       "      <td>0</td>\n",
       "      <td>1</td>\n",
       "      <td>9.84</td>\n",
       "      <td>14.395</td>\n",
       "      <td>75</td>\n",
       "      <td>0.0</td>\n",
       "      <td>0</td>\n",
       "      <td>1</td>\n",
       "      <td>1</td>\n",
       "      <td>4</td>\n",
       "    </tr>\n",
       "  </tbody>\n",
       "</table>\n",
       "</div>"
      ],
      "text/plain": [
       "                     season  holiday  workingday  weather  temp   atemp  \\\n",
       "datetime                                                                  \n",
       "2011-01-01 00:00:00       1        0           0        1  9.84  14.395   \n",
       "2011-01-01 01:00:00       1        0           0        1  9.02  13.635   \n",
       "2011-01-01 02:00:00       1        0           0        1  9.02  13.635   \n",
       "2011-01-01 03:00:00       1        0           0        1  9.84  14.395   \n",
       "2011-01-01 04:00:00       1        0           0        1  9.84  14.395   \n",
       "\n",
       "                     humidity  windspeed  casual  registered  total  hour  \n",
       "datetime                                                                   \n",
       "2011-01-01 00:00:00        81        0.0       3          13     16     0  \n",
       "2011-01-01 01:00:00        80        0.0       8          32     40     1  \n",
       "2011-01-01 02:00:00        80        0.0       5          27     32     2  \n",
       "2011-01-01 03:00:00        75        0.0       3          10     13     3  \n",
       "2011-01-01 04:00:00        75        0.0       0           1      1     4  "
      ]
     },
     "execution_count": 3,
     "metadata": {},
     "output_type": "execute_result"
    }
   ],
   "source": [
    "# Lectura de la información de archivo .csv\n",
    "bikes = pd.read_csv('https://raw.githubusercontent.com/albahnsen/MIAD_ML_and_NLP/main/datasets/bikeshare.csv', index_col='datetime', parse_dates=True)\n",
    "# Renombrar variable \"count\" a \"total\"\n",
    "bikes.rename(columns={'count':'total'}, inplace=True)\n",
    "# Crear la hora como una variable \n",
    "bikes['hour'] = bikes.index.hour\n",
    "# Visualización\n",
    "bikes.head()"
   ]
  },
  {
   "cell_type": "markdown",
   "metadata": {},
   "source": [
    "### Punto 1 - Análisis descriptivo\n",
    "\n",
    "Ejecute las celdas 1.1 y 1.2. A partir de los resultados realice un análisis descriptivo sobre las variables hour y workingday, escriba sus inferencias sobre los datos. Para complementar su análisis puede usar métricas como máximo, mínimo, percentiles entre otros."
   ]
  },
  {
   "cell_type": "code",
   "execution_count": 4,
   "metadata": {},
   "outputs": [
    {
     "data": {
      "text/plain": [
       "workingday\n",
       "0    188.506621\n",
       "1    193.011873\n",
       "Name: total, dtype: float64"
      ]
     },
     "execution_count": 4,
     "metadata": {},
     "output_type": "execute_result"
    }
   ],
   "source": [
    "# Celda 1.1\n",
    "bikes.groupby('workingday').total.mean()"
   ]
  },
  {
   "cell_type": "code",
   "execution_count": 5,
   "metadata": {},
   "outputs": [
    {
     "data": {
      "text/plain": [
       "workingday\n",
       "0    3474\n",
       "1    7412\n",
       "Name: total, dtype: int64"
      ]
     },
     "execution_count": 5,
     "metadata": {},
     "output_type": "execute_result"
    }
   ],
   "source": [
    "bikes.groupby('workingday').total.count()"
   ]
  },
  {
   "cell_type": "code",
   "execution_count": 6,
   "metadata": {
    "scrolled": true
   },
   "outputs": [
    {
     "data": {
      "text/plain": [
       "hour\n",
       "0      55.138462\n",
       "1      33.859031\n",
       "2      22.899554\n",
       "3      11.757506\n",
       "4       6.407240\n",
       "5      19.767699\n",
       "6      76.259341\n",
       "7     213.116484\n",
       "8     362.769231\n",
       "9     221.780220\n",
       "10    175.092308\n",
       "11    210.674725\n",
       "12    256.508772\n",
       "13    257.787281\n",
       "14    243.442982\n",
       "15    254.298246\n",
       "16    316.372807\n",
       "17    468.765351\n",
       "18    430.859649\n",
       "19    315.278509\n",
       "20    228.517544\n",
       "21    173.370614\n",
       "22    133.576754\n",
       "23     89.508772\n",
       "Name: total, dtype: float64"
      ]
     },
     "execution_count": 6,
     "metadata": {},
     "output_type": "execute_result"
    }
   ],
   "source": [
    "# Celda 1.2\n",
    "bikes.groupby('hour').total.mean()"
   ]
  },
  {
   "cell_type": "code",
   "execution_count": 7,
   "metadata": {},
   "outputs": [
    {
     "data": {
      "text/plain": [
       "hour\n",
       "0     455\n",
       "1     454\n",
       "2     448\n",
       "3     433\n",
       "4     442\n",
       "5     452\n",
       "6     455\n",
       "7     455\n",
       "8     455\n",
       "9     455\n",
       "10    455\n",
       "11    455\n",
       "12    456\n",
       "13    456\n",
       "14    456\n",
       "15    456\n",
       "16    456\n",
       "17    456\n",
       "18    456\n",
       "19    456\n",
       "20    456\n",
       "21    456\n",
       "22    456\n",
       "23    456\n",
       "Name: total, dtype: int64"
      ]
     },
     "execution_count": 7,
     "metadata": {},
     "output_type": "execute_result"
    }
   ],
   "source": [
    "bikes.groupby('hour').total.count()"
   ]
  },
  {
   "cell_type": "markdown",
   "metadata": {},
   "source": [
    "## Punto 1 -  Análisis de resultados\n",
    "\n",
    "Como es posible observar en las celdas anteriores los resultados biclase de promedios de rentas entre días \"laborales\" y \"no laborales\" están balanceadas. El promedio de usuarios registrados en días \"hábiles\" o \"no\", están homogeneamente distribuidos por lo cual no sería esa una buena única ramificación inicial por su alta impureza. \n",
    "\n",
    "No obstante al contarlos, la métrica indica que la mayoría de los registros son obviamente los días laborales (desbalance). Así mismo la correlación con variables como temperatura, humedad o velocidad del viento pueden sesgar el análisis.\n",
    "\n",
    "Por otro lado la clasificación por hora del día si muestra una tendencia a pocos usuarios durante las horas de la madrugada y picos en las horas del horario laboral con decenso incremental hacia las horas de la noche. siendo las horas de mayor uso los periodos de término de la jornada entre 17 y 18 horas. \n",
    "\n",
    "Por otro lado es importante observar que pareciera que durante las horas de la mañana entre 1 y 10 am algunos registros (51 en total) han sido removidos, quizá artificialmente. \n"
   ]
  },
  {
   "cell_type": "markdown",
   "metadata": {},
   "source": [
    "### Punto 2 - Análisis de gráficos\n",
    "\n",
    "Primero ejecute la celda 2.1 y asegúrese de comprender el código y el resultado. Luego, en cada una de celdas 2.2 y 2.3 escriba un código que genere una gráfica de las rentas promedio por hora cuando la variable \"workingday\" es igual a 0 e igual a 1, respectivamente. Analice y escriba sus hallazgos."
   ]
  },
  {
   "cell_type": "code",
   "execution_count": 8,
   "metadata": {},
   "outputs": [
    {
     "data": {
      "text/plain": [
       "<AxesSubplot:xlabel='hour'>"
      ]
     },
     "execution_count": 8,
     "metadata": {},
     "output_type": "execute_result"
    },
    {
     "data": {
      "image/png": "[encoded data removed]",
      "text/plain": [
       "<Figure size 432x288 with 1 Axes>"
      ]
     },
     "metadata": {
      "needs_background": "light"
     },
     "output_type": "display_data"
    }
   ],
   "source": [
    "# Celda 2.1 - rentas promedio para cada valor de la variable \"hour\"\n",
    "bikes.groupby('hour').total.mean().plot()"
   ]
  },
  {
   "cell_type": "code",
   "execution_count": 9,
   "metadata": {},
   "outputs": [
    {
     "data": {
      "text/plain": [
       "<AxesSubplot:xlabel='hour', ylabel='total'>"
      ]
     },
     "execution_count": 9,
     "metadata": {},
     "output_type": "execute_result"
    },
    {
     "data": {
      "image/png": "[encoded data removed]",
      "text/plain": [
       "<Figure size 432x288 with 1 Axes>"
      ]
     },
     "metadata": {
      "needs_background": "light"
     },
     "output_type": "display_data"
    }
   ],
   "source": [
    "# Celda 2.2 y celda 2.3 - \"workingday\"=0 escriba su código y hallazgos \n",
    "sns.lineplot(data=bikes, x='hour', y='total',  hue='workingday')"
   ]
  },
  {
   "cell_type": "markdown",
   "metadata": {},
   "source": [
    "## Punto 2 -  Análisis de resultados\n",
    "\n",
    "Como podemos ver, en la gráfica podemos condensar ambos resultados requeridos para las celdas 2.2 y 2.3 (con líneas que sumadas, nos entregarían la gráfica de la Celda 2.1) y es posible observar que la distribución de las rentas en promedio se comportan con gradientes decrecientes entre las 0000 y las 0500 para ambos tipos de jornada (laboral o no laboral). Horarios en los que posteriormente y de manera diferencial adquieren un gradiente positivo pronunciado con picos seaprados por gradientes decrecientes y crecientes a las 0700-0800 y 1600-1700 para los días laborales y con picos sostenidos entre las 1100 y las 1700 para los no laborales. Claramente definible para los días laborales en los horarios de ingreso y salida laboral y en dias no laborales con pico en los horarios vespertinos decrecientes hasta el fin del día, en los que los usuarios mayormente aprovechan sus días de descanso.\n"
   ]
  },
  {
   "cell_type": "markdown",
   "metadata": {},
   "source": [
    "### Punto 3 - Regresión lineal\n",
    "En la celda 3 ajuste un modelo de regresión lineal a todo el conjunto de datos, utilizando \"total\" como variable de respuesta y \"hour\" y \"workingday\" como las únicas variables predictoras. Luego, imprima los coeficientes e interprételos. ¿Cuáles son las limitaciones de la regresión lineal en este caso?"
   ]
  },
  {
   "cell_type": "code",
   "execution_count": 224,
   "metadata": {},
   "outputs": [],
   "source": [
    "# Celda 3\n",
    "from sklearn.model_selection import cross_val_predict\n",
    "y_total = bikes.iloc[:,bikes.columns=='total']\n",
    "x_total = bikes.iloc[:,[2,-1]]\n"
   ]
  },
  {
   "cell_type": "code",
   "execution_count": 225,
   "metadata": {},
   "outputs": [
    {
     "name": "stdout",
     "output_type": "stream",
     "text": [
      "MSE regresión lineal ordinario:\n",
      "30359.62136639098\n"
     ]
    }
   ],
   "source": [
    "n_componentes_elegidas = 10\n",
    "\n",
    "LR = LinearRegression().fit(x_total, y_total)\n",
    "\n",
    "prediccion_LR = cross_val_predict(LR, x_total, y_total, method='predict')\n",
    "MSE_LR = np.average(np.square(prediccion_LR - y_total))\n",
    "print('MSE regresión lineal ordinario:')\n",
    "print(MSE_LR)"
   ]
  },
  {
   "cell_type": "code",
   "execution_count": 226,
   "metadata": {},
   "outputs": [
    {
     "name": "stdout",
     "output_type": "stream",
     "text": [
      "MSE regresión por componentes principales:\n",
      "30359.62136639098\n"
     ]
    }
   ],
   "source": [
    "PCA = LinearRegression()\n",
    "PCA.fit(x_total, y_total)\n",
    "\n",
    "prediccion_PCA = cross_val_predict(PCA, x_total, y_total, method='predict')\n",
    "MSE_PCA = np.average(np.square(prediccion_PCA - y_total))\n",
    "print('MSE regresión por componentes principales:')\n",
    "print(MSE_PCA)"
   ]
  },
  {
   "cell_type": "code",
   "execution_count": 227,
   "metadata": {},
   "outputs": [
    {
     "name": "stdout",
     "output_type": "stream",
     "text": [
      "MSE regresión por Minimos Cuadrados Parciales:\n",
      "30359.62136639099\n"
     ]
    }
   ],
   "source": [
    "PLS = PLSRegression(n_components=2)\n",
    "PLS.fit(x_total, y_total)\n",
    "\n",
    "prediccion_PLS = cross_val_predict(PLS, x_total, y_total, method='predict')\n",
    "MSE_PLS = np.average(np.square(prediccion_PLS - y_total))\n",
    "\n",
    "print('MSE regresión por Minimos Cuadrados Parciales:')\n",
    "print(MSE_PLS)"
   ]
  },
  {
   "cell_type": "code",
   "execution_count": 228,
   "metadata": {},
   "outputs": [
    {
     "data": {
      "image/png": "[encoded data removed]",
      "text/plain": [
       "<Figure size 432x288 with 1 Axes>"
      ]
     },
     "metadata": {
      "needs_background": "light"
     },
     "output_type": "display_data"
    }
   ],
   "source": [
    "fig = plt.figure()\n",
    "ax = fig.add_axes([0,0,1,1])\n",
    "ax.set_title(\"Minimum Square Error MSE\")\n",
    "ejeX = ['OLR', 'PCA','PLS']\n",
    "ejeY = [MSE_LR,MSE_PCA,MSE_PLS]\n",
    "ax.bar(ejeX,ejeY)\n",
    "def addlabels(x,y,plotP):\n",
    "    for i in range(len(x)):\n",
    "        plotP.text(i,y[i],y[i])\n",
    "addlabels(ejeX,ejeY,plt)\n",
    "plt.show()\n"
   ]
  },
  {
   "cell_type": "markdown",
   "metadata": {},
   "source": [
    "### Punto 4 - Árbol de decisión manual\n",
    "En la celda 4 cree un árbol de decisiones para pronosticar la variable \"total\" iterando **manualmente** sobre las variables \"hour\" y  \"workingday\". El árbol debe tener al menos 6 nodos finales."
   ]
  },
  {
   "cell_type": "code",
   "execution_count": 235,
   "metadata": {},
   "outputs": [],
   "source": [
    "bikes = pd.read_csv('https://raw.githubusercontent.com/albahnsen/MIAD_ML_and_NLP/main/datasets/bikeshare.csv', index_col='datetime', parse_dates=True)\n",
    "bikes.rename(columns={'count':'total'}, inplace=True)\n",
    "bikes['hour'] = bikes.index.hour\n",
    "bikes.head()\n",
    "\n",
    "x = bikes.columns.drop(['season', 'holiday', 'weather', 'temp', 'atemp', 'humidity', \n",
    "                        'windspeed', 'casual', 'registered', 'total'])\n",
    "x_total = bikes[x]\n",
    "x_total = x_total.reset_index(drop = True)\n",
    "\n",
    "# Selección de la variable de interés\n",
    "y_total = bikes.loc[:, bikes.columns == \"total\"]\n",
    "y_total = y_total.reset_index(drop = True)\n",
    "y_total = y_total['total'].astype(int)"
   ]
  },
  {
   "cell_type": "code",
   "execution_count": 236,
   "metadata": {},
   "outputs": [],
   "source": [
    "# Celda 4\n",
    "\n",
    "\n",
    "max_depth = None \n",
    "num_pct = 10 \n",
    "max_features = None\n",
    "min_gain = 0.001\n"
   ]
  },
  {
   "cell_type": "code",
   "execution_count": 237,
   "metadata": {},
   "outputs": [],
   "source": [
    "def gini(x):\n",
    "    \n",
    "    x = np.asarray(x)\n",
    "    mad = np.abs(np.subtract.outer(x, x)).mean()\n",
    "    rmad = mad/np.mean(x)\n",
    "    g = 0.5 * rmad\n",
    "    \n",
    "    return g"
   ]
  },
  {
   "cell_type": "code",
   "execution_count": 238,
   "metadata": {},
   "outputs": [],
   "source": [
    "def gini_impurity(X_col, y, split):\n",
    "    \n",
    "    filter_l = X_col <= split\n",
    "    y_l = y.loc[filter_l]\n",
    "    y_r = y.loc[~filter_l]\n",
    "    \n",
    "    n_l = y_l.shape[0]\n",
    "    n_r = y_r.shape[0]\n",
    "    \n",
    "    gini_y = gini(y)\n",
    "    gini_l = gini(y_l)\n",
    "    gini_r = gini(y_r)\n",
    "    \n",
    "    gini_impurity_ = gini_y - (n_l / (n_l + n_r) * gini_l + n_r / (n_l + n_r) * gini_r)\n",
    "    \n",
    "    return gini_impurity_"
   ]
  },
  {
   "cell_type": "code",
   "execution_count": 239,
   "metadata": {},
   "outputs": [],
   "source": [
    "def best_split(x_total, y_total, num_pct = 10):\n",
    "    \n",
    "    features = range(x_total.shape[1])\n",
    "    \n",
    "    best_split = [0, 0, 0] \n",
    "\n",
    "    for j in features:\n",
    "        \n",
    "        splits = np.percentile(x_total.iloc[:, j], np.arange(0, 100, 100.0 / (num_pct + 1)).tolist())\n",
    "        splits = np.unique(splits)[1:]\n",
    "        \n",
    "        for split in splits:\n",
    "            gain = gini_impurity(x_total.iloc[:, j], y_total, split)\n",
    "            if gain > best_split[2]:\n",
    "                best_split = [j, split, gain]\n",
    "    \n",
    "    return best_split"
   ]
  },
  {
   "cell_type": "code",
   "execution_count": 240,
   "metadata": {},
   "outputs": [],
   "source": [
    "def tree_grow(x_total, y_total, level = 0, min_gain = 0.001, max_depth = None, num_pct = 10):\n",
    "    \n",
    "    if x_total.shape[0] == 1:\n",
    "        tree = dict(y_pred = y_total.iloc[:1].values[0], y_prob = 0.5, level = level, split = -1, n_samples = 1,\n",
    "                    gain = 0)\n",
    "        return tree\n",
    "    \n",
    "    j, split, gain = best_split(x_total, y_total, num_pct)\n",
    "    \n",
    "    y_pred = int(y_total.mean() >= 0.5) \n",
    "    y_prob = (y_total.sum() + 1.0) / (y_total.shape[0] + 2.0) \n",
    "    \n",
    "    tree = dict(y_pred = y_pred, y_prob = y_prob, level = level, split = -1, n_samples = x_total.shape[0], \n",
    "                gain = gain)\n",
    "    \n",
    "    if gain < min_gain:\n",
    "        return tree\n",
    "    if max_depth is not None:\n",
    "        if level >= max_depth:\n",
    "            return tree   \n",
    "    \n",
    "    filter_l = x_total.iloc[:, j] < split\n",
    "    X_l, y_l = x_total.loc[filter_l], y_total.loc[filter_l]\n",
    "    X_r, y_r = x_total.loc[~filter_l], y_total.loc[~filter_l]\n",
    "    tree['split'] = [j, split]\n",
    "\n",
    "    tree['sl'] = tree_grow(X_l, y_l, level + 1, min_gain = min_gain, max_depth = max_depth, num_pct = num_pct)\n",
    "    tree['sr'] = tree_grow(X_r, y_r, level + 1, min_gain = min_gain, max_depth = max_depth, num_pct = num_pct)\n",
    "    \n",
    "    return tree"
   ]
  },
  {
   "cell_type": "code",
   "execution_count": 241,
   "metadata": {},
   "outputs": [
    {
     "data": {
      "text/plain": [
       "{'y_pred': 1,\n",
       " 'y_prob': 191.53903379867745,\n",
       " 'level': 0,\n",
       " 'split': [1, 6.0],\n",
       " 'n_samples': 10886,\n",
       " 'gain': 0.07110879901916922,\n",
       " 'sl': {'y_pred': 1,\n",
       "  'y_prob': 25.15934475055845,\n",
       "  'level': 1,\n",
       "  'split': -1,\n",
       "  'n_samples': 2684,\n",
       "  'gain': 0.06377444761696882},\n",
       " 'sr': {'y_pred': 1,\n",
       "  'y_prob': 245.96538274012676,\n",
       "  'level': 1,\n",
       "  'split': -1,\n",
       "  'n_samples': 8202,\n",
       "  'gain': 0.023724667107907715}}"
      ]
     },
     "execution_count": 241,
     "metadata": {},
     "output_type": "execute_result"
    }
   ],
   "source": [
    "tree_grow(x_total, y_total, level=0, min_gain=0.001, max_depth=1, num_pct=10)"
   ]
  },
  {
   "cell_type": "markdown",
   "metadata": {},
   "source": [
    "### Punto 5 - Árbol de decisión con librería\n",
    "En la celda 5 entrene un árbol de decisiones con la **librería sklearn**, usando las variables predictoras \"hour\" y \"workingday\" y calibre los parámetros que considere conveniente para obtener un mejor desempeño. Comente el desempeño del modelo con alguna métrica de desempeño de modelos de clasificación y compare desempeño con el modelo del punto 3."
   ]
  },
  {
   "cell_type": "code",
   "execution_count": 244,
   "metadata": {},
   "outputs": [
    {
     "name": "stdout",
     "output_type": "stream",
     "text": [
      "MSE regresión por Árbol de decisión:\n",
      "[25682.856410773486, 23413.139278781146, 21774.3973666331, 20646.472358503215, 17278.66635878625, 15407.785053636011, 15219.913929683144, 15212.142632270046, 15208.142261460005, 15207.603837660574, 15207.603837660574, 15207.603837660574, 15207.603837660574, 15207.603837660574, 15207.603837660574, 15207.603837660574, 15207.603837660574, 15207.603837660574, 15207.603837660574, 15207.603837660574, 15207.603837660574, 15207.603837660574]\n"
     ]
    }
   ],
   "source": [
    "# Celda 5\n",
    "y_total = bikes.iloc[:,bikes.columns=='total']\n",
    "x_total = bikes.iloc[:,[2,-1]]\n",
    "\n",
    "max_depth_range = range(1, 23)\n",
    "MSE_DTRApp = []\n",
    "pd.DataFrame(MSE_DTRApp)\n",
    "\n",
    "for depth in max_depth_range:\n",
    "    dtr = DecisionTreeRegressor(\n",
    "            criterion='friedman_mse', \n",
    "            splitter='best', \n",
    "            max_depth=depth, \n",
    "            random_state=0)    \n",
    "    dtr.fit(x_total, y_total)\n",
    "    \n",
    "    \n",
    "    prediccionDTR= cross_val_predict(dtr, x_total, y_total, method='predict')\n",
    "    MSE_DTR = np.average(np.square(prediccionDTR - y_total.total))\n",
    "    MSE_DTRApp.append(MSE_DTR)    \n",
    "\n",
    "print('MSE regresión por Árbol de decisión:')\n",
    "print(MSE_DTRApp)\n",
    "\n"
   ]
  },
  {
   "cell_type": "code",
   "execution_count": 245,
   "metadata": {},
   "outputs": [
    {
     "data": {
      "text/plain": [
       "Text(0, 0.5, 'MSE por iteración')"
      ]
     },
     "execution_count": 245,
     "metadata": {},
     "output_type": "execute_result"
    },
    {
     "data": {
      "image/png": "[encoded data removed]",
      "text/plain": [
       "<Figure size 432x288 with 1 Axes>"
      ]
     },
     "metadata": {
      "needs_background": "light"
     },
     "output_type": "display_data"
    }
   ],
   "source": [
    "plt.plot(max_depth_range,MSE_DTRApp)\n",
    "plt.xlabel('max_depth')\n",
    "plt.ylabel('MSE por iteración')"
   ]
  },
  {
   "cell_type": "markdown",
   "metadata": {},
   "source": [
    "## COMPARACIÓN\n",
    "\n",
    "Comparando los coeficientes de desempeño de los modelos anteriores el Coeficiente de _workingDay_ será positivo mientras sea \"día hábil\" superando 6 ciclas rentadas por día.\n",
    "\n",
    "El coeficiente _hour_ es positivo y directamente proporcional con la hora de la renta y la cantidad de ciclas rentadas. Lo anterior no es cierto en todos los casos.\n",
    "\n",
    "En caso de que _workingday_=0,  el prnóstico no es fiable pues indica que no hay rentas lo cual no es cierto en la realidad. Así mismo\n"
   ]
  },
  {
   "cell_type": "markdown",
   "metadata": {},
   "source": [
    "## Parte B - Métodos de ensamblajes\n",
    "En esta parte del taller se usará el conjunto de datos de Popularidad de Noticias Online. El objetivo es predecir si la notica es popular o no, la populridad esta dada por la cantidad de reacciones en redes sociales. Para más detalles puede visitar el sigueinte enlace: [datos](https://archive.ics.uci.edu/ml/datasets/online+news+popularity)."
   ]
  },
  {
   "cell_type": "markdown",
   "metadata": {},
   "source": [
    "### Datos popularidad de noticias"
   ]
  },
  {
   "cell_type": "code",
   "execution_count": 124,
   "metadata": {},
   "outputs": [
    {
     "data": {
      "text/html": [
       "<div>\n",
       "<style scoped>\n",
       "    .dataframe tbody tr th:only-of-type {\n",
       "        vertical-align: middle;\n",
       "    }\n",
       "\n",
       "    .dataframe tbody tr th {\n",
       "        vertical-align: top;\n",
       "    }\n",
       "\n",
       "    .dataframe thead th {\n",
       "        text-align: right;\n",
       "    }\n",
       "</style>\n",
       "<table border=\"1\" class=\"dataframe\">\n",
       "  <thead>\n",
       "    <tr style=\"text-align: right;\">\n",
       "      <th></th>\n",
       "      <th>url</th>\n",
       "      <th>timedelta</th>\n",
       "      <th>n_tokens_title</th>\n",
       "      <th>n_tokens_content</th>\n",
       "      <th>n_unique_tokens</th>\n",
       "      <th>n_non_stop_words</th>\n",
       "      <th>n_non_stop_unique_tokens</th>\n",
       "      <th>num_hrefs</th>\n",
       "      <th>num_self_hrefs</th>\n",
       "      <th>num_imgs</th>\n",
       "      <th>...</th>\n",
       "      <th>min_positive_polarity</th>\n",
       "      <th>max_positive_polarity</th>\n",
       "      <th>avg_negative_polarity</th>\n",
       "      <th>min_negative_polarity</th>\n",
       "      <th>max_negative_polarity</th>\n",
       "      <th>title_subjectivity</th>\n",
       "      <th>title_sentiment_polarity</th>\n",
       "      <th>abs_title_subjectivity</th>\n",
       "      <th>abs_title_sentiment_polarity</th>\n",
       "      <th>Popular</th>\n",
       "    </tr>\n",
       "  </thead>\n",
       "  <tbody>\n",
       "    <tr>\n",
       "      <th>0</th>\n",
       "      <td>http://mashable.com/2014/12/10/cia-torture-rep...</td>\n",
       "      <td>28.0</td>\n",
       "      <td>9.0</td>\n",
       "      <td>188.0</td>\n",
       "      <td>0.732620</td>\n",
       "      <td>1.0</td>\n",
       "      <td>0.844262</td>\n",
       "      <td>5.0</td>\n",
       "      <td>1.0</td>\n",
       "      <td>1.0</td>\n",
       "      <td>...</td>\n",
       "      <td>0.200000</td>\n",
       "      <td>0.80</td>\n",
       "      <td>-0.487500</td>\n",
       "      <td>-0.60</td>\n",
       "      <td>-0.250000</td>\n",
       "      <td>0.9</td>\n",
       "      <td>0.8</td>\n",
       "      <td>0.4</td>\n",
       "      <td>0.8</td>\n",
       "      <td>1</td>\n",
       "    </tr>\n",
       "    <tr>\n",
       "      <th>1</th>\n",
       "      <td>http://mashable.com/2013/10/18/bitlock-kicksta...</td>\n",
       "      <td>447.0</td>\n",
       "      <td>7.0</td>\n",
       "      <td>297.0</td>\n",
       "      <td>0.653199</td>\n",
       "      <td>1.0</td>\n",
       "      <td>0.815789</td>\n",
       "      <td>9.0</td>\n",
       "      <td>4.0</td>\n",
       "      <td>1.0</td>\n",
       "      <td>...</td>\n",
       "      <td>0.160000</td>\n",
       "      <td>0.50</td>\n",
       "      <td>-0.135340</td>\n",
       "      <td>-0.40</td>\n",
       "      <td>-0.050000</td>\n",
       "      <td>0.1</td>\n",
       "      <td>-0.1</td>\n",
       "      <td>0.4</td>\n",
       "      <td>0.1</td>\n",
       "      <td>0</td>\n",
       "    </tr>\n",
       "    <tr>\n",
       "      <th>2</th>\n",
       "      <td>http://mashable.com/2013/07/24/google-glass-po...</td>\n",
       "      <td>533.0</td>\n",
       "      <td>11.0</td>\n",
       "      <td>181.0</td>\n",
       "      <td>0.660377</td>\n",
       "      <td>1.0</td>\n",
       "      <td>0.775701</td>\n",
       "      <td>4.0</td>\n",
       "      <td>3.0</td>\n",
       "      <td>1.0</td>\n",
       "      <td>...</td>\n",
       "      <td>0.136364</td>\n",
       "      <td>1.00</td>\n",
       "      <td>0.000000</td>\n",
       "      <td>0.00</td>\n",
       "      <td>0.000000</td>\n",
       "      <td>0.3</td>\n",
       "      <td>1.0</td>\n",
       "      <td>0.2</td>\n",
       "      <td>1.0</td>\n",
       "      <td>0</td>\n",
       "    </tr>\n",
       "    <tr>\n",
       "      <th>3</th>\n",
       "      <td>http://mashable.com/2013/11/21/these-are-the-m...</td>\n",
       "      <td>413.0</td>\n",
       "      <td>12.0</td>\n",
       "      <td>781.0</td>\n",
       "      <td>0.497409</td>\n",
       "      <td>1.0</td>\n",
       "      <td>0.677350</td>\n",
       "      <td>10.0</td>\n",
       "      <td>3.0</td>\n",
       "      <td>1.0</td>\n",
       "      <td>...</td>\n",
       "      <td>0.100000</td>\n",
       "      <td>1.00</td>\n",
       "      <td>-0.195701</td>\n",
       "      <td>-0.40</td>\n",
       "      <td>-0.071429</td>\n",
       "      <td>0.0</td>\n",
       "      <td>0.0</td>\n",
       "      <td>0.5</td>\n",
       "      <td>0.0</td>\n",
       "      <td>0</td>\n",
       "    </tr>\n",
       "    <tr>\n",
       "      <th>4</th>\n",
       "      <td>http://mashable.com/2014/02/11/parking-ticket-...</td>\n",
       "      <td>331.0</td>\n",
       "      <td>8.0</td>\n",
       "      <td>177.0</td>\n",
       "      <td>0.685714</td>\n",
       "      <td>1.0</td>\n",
       "      <td>0.830357</td>\n",
       "      <td>3.0</td>\n",
       "      <td>2.0</td>\n",
       "      <td>1.0</td>\n",
       "      <td>...</td>\n",
       "      <td>0.100000</td>\n",
       "      <td>0.55</td>\n",
       "      <td>-0.175000</td>\n",
       "      <td>-0.25</td>\n",
       "      <td>-0.100000</td>\n",
       "      <td>0.0</td>\n",
       "      <td>0.0</td>\n",
       "      <td>0.5</td>\n",
       "      <td>0.0</td>\n",
       "      <td>0</td>\n",
       "    </tr>\n",
       "    <tr>\n",
       "      <th>...</th>\n",
       "      <td>...</td>\n",
       "      <td>...</td>\n",
       "      <td>...</td>\n",
       "      <td>...</td>\n",
       "      <td>...</td>\n",
       "      <td>...</td>\n",
       "      <td>...</td>\n",
       "      <td>...</td>\n",
       "      <td>...</td>\n",
       "      <td>...</td>\n",
       "      <td>...</td>\n",
       "      <td>...</td>\n",
       "      <td>...</td>\n",
       "      <td>...</td>\n",
       "      <td>...</td>\n",
       "      <td>...</td>\n",
       "      <td>...</td>\n",
       "      <td>...</td>\n",
       "      <td>...</td>\n",
       "      <td>...</td>\n",
       "      <td>...</td>\n",
       "    </tr>\n",
       "    <tr>\n",
       "      <th>5995</th>\n",
       "      <td>http://mashable.com/2013/08/03/twerking-addict...</td>\n",
       "      <td>523.0</td>\n",
       "      <td>10.0</td>\n",
       "      <td>660.0</td>\n",
       "      <td>0.493884</td>\n",
       "      <td>1.0</td>\n",
       "      <td>0.633971</td>\n",
       "      <td>20.0</td>\n",
       "      <td>4.0</td>\n",
       "      <td>1.0</td>\n",
       "      <td>...</td>\n",
       "      <td>0.050000</td>\n",
       "      <td>0.50</td>\n",
       "      <td>-0.258730</td>\n",
       "      <td>-0.80</td>\n",
       "      <td>-0.100000</td>\n",
       "      <td>0.1</td>\n",
       "      <td>0.0</td>\n",
       "      <td>0.4</td>\n",
       "      <td>0.0</td>\n",
       "      <td>0</td>\n",
       "    </tr>\n",
       "    <tr>\n",
       "      <th>5996</th>\n",
       "      <td>http://mashable.com/2014/08/21/study-programs-...</td>\n",
       "      <td>139.0</td>\n",
       "      <td>9.0</td>\n",
       "      <td>144.0</td>\n",
       "      <td>0.647887</td>\n",
       "      <td>1.0</td>\n",
       "      <td>0.739583</td>\n",
       "      <td>15.0</td>\n",
       "      <td>4.0</td>\n",
       "      <td>10.0</td>\n",
       "      <td>...</td>\n",
       "      <td>0.100000</td>\n",
       "      <td>0.60</td>\n",
       "      <td>-0.250000</td>\n",
       "      <td>-0.30</td>\n",
       "      <td>-0.200000</td>\n",
       "      <td>0.0</td>\n",
       "      <td>0.0</td>\n",
       "      <td>0.5</td>\n",
       "      <td>0.0</td>\n",
       "      <td>1</td>\n",
       "    </tr>\n",
       "    <tr>\n",
       "      <th>5997</th>\n",
       "      <td>http://mashable.com/2013/04/25/email-warrant-m...</td>\n",
       "      <td>623.0</td>\n",
       "      <td>8.0</td>\n",
       "      <td>536.0</td>\n",
       "      <td>0.512287</td>\n",
       "      <td>1.0</td>\n",
       "      <td>0.647929</td>\n",
       "      <td>6.0</td>\n",
       "      <td>2.0</td>\n",
       "      <td>1.0</td>\n",
       "      <td>...</td>\n",
       "      <td>0.100000</td>\n",
       "      <td>0.40</td>\n",
       "      <td>-0.156250</td>\n",
       "      <td>-0.30</td>\n",
       "      <td>-0.100000</td>\n",
       "      <td>0.0</td>\n",
       "      <td>0.0</td>\n",
       "      <td>0.5</td>\n",
       "      <td>0.0</td>\n",
       "      <td>0</td>\n",
       "    </tr>\n",
       "    <tr>\n",
       "      <th>5998</th>\n",
       "      <td>http://mashable.com/2013/06/03/smartphone-sale...</td>\n",
       "      <td>584.0</td>\n",
       "      <td>10.0</td>\n",
       "      <td>266.0</td>\n",
       "      <td>0.534413</td>\n",
       "      <td>1.0</td>\n",
       "      <td>0.605882</td>\n",
       "      <td>9.0</td>\n",
       "      <td>6.0</td>\n",
       "      <td>1.0</td>\n",
       "      <td>...</td>\n",
       "      <td>0.100000</td>\n",
       "      <td>0.60</td>\n",
       "      <td>-0.250000</td>\n",
       "      <td>-0.40</td>\n",
       "      <td>-0.100000</td>\n",
       "      <td>0.0</td>\n",
       "      <td>0.0</td>\n",
       "      <td>0.5</td>\n",
       "      <td>0.0</td>\n",
       "      <td>0</td>\n",
       "    </tr>\n",
       "    <tr>\n",
       "      <th>5999</th>\n",
       "      <td>http://mashable.com/2013/09/06/twerk-fire/</td>\n",
       "      <td>489.0</td>\n",
       "      <td>7.0</td>\n",
       "      <td>447.0</td>\n",
       "      <td>0.605568</td>\n",
       "      <td>1.0</td>\n",
       "      <td>0.717172</td>\n",
       "      <td>19.0</td>\n",
       "      <td>3.0</td>\n",
       "      <td>0.0</td>\n",
       "      <td>...</td>\n",
       "      <td>0.050000</td>\n",
       "      <td>1.00</td>\n",
       "      <td>-0.400000</td>\n",
       "      <td>-0.40</td>\n",
       "      <td>-0.400000</td>\n",
       "      <td>0.0</td>\n",
       "      <td>0.0</td>\n",
       "      <td>0.5</td>\n",
       "      <td>0.0</td>\n",
       "      <td>1</td>\n",
       "    </tr>\n",
       "  </tbody>\n",
       "</table>\n",
       "<p>6000 rows × 61 columns</p>\n",
       "</div>"
      ],
      "text/plain": [
       "                                                    url  timedelta  \\\n",
       "0     http://mashable.com/2014/12/10/cia-torture-rep...       28.0   \n",
       "1     http://mashable.com/2013/10/18/bitlock-kicksta...      447.0   \n",
       "2     http://mashable.com/2013/07/24/google-glass-po...      533.0   \n",
       "3     http://mashable.com/2013/11/21/these-are-the-m...      413.0   \n",
       "4     http://mashable.com/2014/02/11/parking-ticket-...      331.0   \n",
       "...                                                 ...        ...   \n",
       "5995  http://mashable.com/2013/08/03/twerking-addict...      523.0   \n",
       "5996  http://mashable.com/2014/08/21/study-programs-...      139.0   \n",
       "5997  http://mashable.com/2013/04/25/email-warrant-m...      623.0   \n",
       "5998  http://mashable.com/2013/06/03/smartphone-sale...      584.0   \n",
       "5999         http://mashable.com/2013/09/06/twerk-fire/      489.0   \n",
       "\n",
       "      n_tokens_title  n_tokens_content  n_unique_tokens  n_non_stop_words  \\\n",
       "0                9.0             188.0         0.732620               1.0   \n",
       "1                7.0             297.0         0.653199               1.0   \n",
       "2               11.0             181.0         0.660377               1.0   \n",
       "3               12.0             781.0         0.497409               1.0   \n",
       "4                8.0             177.0         0.685714               1.0   \n",
       "...              ...               ...              ...               ...   \n",
       "5995            10.0             660.0         0.493884               1.0   \n",
       "5996             9.0             144.0         0.647887               1.0   \n",
       "5997             8.0             536.0         0.512287               1.0   \n",
       "5998            10.0             266.0         0.534413               1.0   \n",
       "5999             7.0             447.0         0.605568               1.0   \n",
       "\n",
       "      n_non_stop_unique_tokens  num_hrefs  num_self_hrefs  num_imgs  ...  \\\n",
       "0                     0.844262        5.0             1.0       1.0  ...   \n",
       "1                     0.815789        9.0             4.0       1.0  ...   \n",
       "2                     0.775701        4.0             3.0       1.0  ...   \n",
       "3                     0.677350       10.0             3.0       1.0  ...   \n",
       "4                     0.830357        3.0             2.0       1.0  ...   \n",
       "...                        ...        ...             ...       ...  ...   \n",
       "5995                  0.633971       20.0             4.0       1.0  ...   \n",
       "5996                  0.739583       15.0             4.0      10.0  ...   \n",
       "5997                  0.647929        6.0             2.0       1.0  ...   \n",
       "5998                  0.605882        9.0             6.0       1.0  ...   \n",
       "5999                  0.717172       19.0             3.0       0.0  ...   \n",
       "\n",
       "      min_positive_polarity  max_positive_polarity  avg_negative_polarity  \\\n",
       "0                  0.200000                   0.80              -0.487500   \n",
       "1                  0.160000                   0.50              -0.135340   \n",
       "2                  0.136364                   1.00               0.000000   \n",
       "3                  0.100000                   1.00              -0.195701   \n",
       "4                  0.100000                   0.55              -0.175000   \n",
       "...                     ...                    ...                    ...   \n",
       "5995               0.050000                   0.50              -0.258730   \n",
       "5996               0.100000                   0.60              -0.250000   \n",
       "5997               0.100000                   0.40              -0.156250   \n",
       "5998               0.100000                   0.60              -0.250000   \n",
       "5999               0.050000                   1.00              -0.400000   \n",
       "\n",
       "      min_negative_polarity  max_negative_polarity  title_subjectivity  \\\n",
       "0                     -0.60              -0.250000                 0.9   \n",
       "1                     -0.40              -0.050000                 0.1   \n",
       "2                      0.00               0.000000                 0.3   \n",
       "3                     -0.40              -0.071429                 0.0   \n",
       "4                     -0.25              -0.100000                 0.0   \n",
       "...                     ...                    ...                 ...   \n",
       "5995                  -0.80              -0.100000                 0.1   \n",
       "5996                  -0.30              -0.200000                 0.0   \n",
       "5997                  -0.30              -0.100000                 0.0   \n",
       "5998                  -0.40              -0.100000                 0.0   \n",
       "5999                  -0.40              -0.400000                 0.0   \n",
       "\n",
       "      title_sentiment_polarity  abs_title_subjectivity  \\\n",
       "0                          0.8                     0.4   \n",
       "1                         -0.1                     0.4   \n",
       "2                          1.0                     0.2   \n",
       "3                          0.0                     0.5   \n",
       "4                          0.0                     0.5   \n",
       "...                        ...                     ...   \n",
       "5995                       0.0                     0.4   \n",
       "5996                       0.0                     0.5   \n",
       "5997                       0.0                     0.5   \n",
       "5998                       0.0                     0.5   \n",
       "5999                       0.0                     0.5   \n",
       "\n",
       "      abs_title_sentiment_polarity  Popular  \n",
       "0                              0.8        1  \n",
       "1                              0.1        0  \n",
       "2                              1.0        0  \n",
       "3                              0.0        0  \n",
       "4                              0.0        0  \n",
       "...                            ...      ...  \n",
       "5995                           0.0        0  \n",
       "5996                           0.0        1  \n",
       "5997                           0.0        0  \n",
       "5998                           0.0        0  \n",
       "5999                           0.0        1  \n",
       "\n",
       "[6000 rows x 61 columns]"
      ]
     },
     "execution_count": 124,
     "metadata": {},
     "output_type": "execute_result"
    }
   ],
   "source": [
    "# Lectura de la información de archivo .csv\n",
    "df = pd.read_csv('https://raw.githubusercontent.com/albahnsen/MIAD_ML_and_NLP/main/datasets/mashable.csv', index_col=0)\n",
    "df\n"
   ]
  },
  {
   "cell_type": "code",
   "execution_count": 125,
   "metadata": {},
   "outputs": [
    {
     "data": {
      "text/plain": [
       "0.5"
      ]
     },
     "execution_count": 125,
     "metadata": {},
     "output_type": "execute_result"
    }
   ],
   "source": [
    "# Definición variable de interes y variables predictoras\n",
    "X = df.drop(['url', 'Popular'], axis=1)\n",
    "y = df['Popular']\n",
    "y.mean()"
   ]
  },
  {
   "cell_type": "code",
   "execution_count": 126,
   "metadata": {},
   "outputs": [],
   "source": [
    "# División de la muestra en set de entrenamiento y prueba\n",
    "from sklearn.model_selection import train_test_split\n",
    "X_train, X_test, y_train, y_test = train_test_split(X, y, random_state=1)"
   ]
  },
  {
   "cell_type": "markdown",
   "metadata": {},
   "source": [
    "### Punto 6 - Árbol de decisión y regresión logística\n",
    "En la celda 6 construya un árbol de decisión y una regresión logística. Para el árbol calibre al menos un parámetro y evalúe el desempeño de cada modelo usando las métricas de Accuracy y F1-Score."
   ]
  },
  {
   "cell_type": "code",
   "execution_count": 127,
   "metadata": {},
   "outputs": [
    {
     "data": {
      "text/plain": [
       "<AxesSubplot:>"
      ]
     },
     "execution_count": 127,
     "metadata": {},
     "output_type": "execute_result"
    },
    {
     "data": {
      "image/png": "[encoded data removed]",
      "text/plain": [
       "<Figure size 432x288 with 2 Axes>"
      ]
     },
     "metadata": {
      "needs_background": "light"
     },
     "output_type": "display_data"
    }
   ],
   "source": [
    "corr = df.dropna().corr()\n",
    "sns.heatmap(corr, vmin=0, vmax=1)"
   ]
  },
  {
   "cell_type": "code",
   "execution_count": 128,
   "metadata": {},
   "outputs": [],
   "source": [
    "max_depth_range = range(1, 21)\n",
    "accuracy_scores = []\n",
    "f1_scores = []\n",
    "\n",
    "for depth in max_depth_range:\n",
    "    dtr = DecisionTreeClassifier(\n",
    "            max_depth=depth, \n",
    "            random_state=0)    \n",
    "    accuracy_scores.append(cross_val_score(dtr, X, y, cv=10, scoring='accuracy').mean())\n",
    "    f1_scores.append(cross_val_score(dtr, X, y, cv=10, scoring='f1').mean())\n"
   ]
  },
  {
   "cell_type": "code",
   "execution_count": 129,
   "metadata": {},
   "outputs": [
    {
     "data": {
      "text/plain": [
       "<matplotlib.legend.Legend at 0x7fcd73e2fbe0>"
      ]
     },
     "execution_count": 129,
     "metadata": {},
     "output_type": "execute_result"
    },
    {
     "data": {
      "image/png": "[encoded data removed]",
      "text/plain": [
       "<Figure size 432x288 with 1 Axes>"
      ]
     },
     "metadata": {
      "needs_background": "light"
     },
     "output_type": "display_data"
    }
   ],
   "source": [
    "plt.plot(max_depth_range, accuracy_scores, max_depth_range, f1_scores)\n",
    "plt.xlabel('Profundidad del Árbol')\n",
    "plt.ylabel('Accuracy - f1 score' )\n",
    "plt.legend(['Accuracy','f1 score'])"
   ]
  },
  {
   "cell_type": "markdown",
   "metadata": {},
   "source": [
    "### Punto 7 - Votación Mayoritaria\n",
    "En la celda 7 elabore un esamble con la metodología de **Votación mayoritaria** compuesto por 300 muestras bagged para cada uno de los siguientes escenarios:\n",
    "\n",
    "-100 árboles de decisión donde max_depth = None\\\n",
    "-100 árboles de decisión donde max_depth = 2\\\n",
    "-100 regresiones logísticas\n",
    "\n",
    "Evalúe los modelos utilizando las métricas de Accuracy y F1-Score."
   ]
  },
  {
   "cell_type": "markdown",
   "metadata": {},
   "source": [
    "## 100 Árboles de decisión sin Max Depth"
   ]
  },
  {
   "cell_type": "code",
   "execution_count": 136,
   "metadata": {},
   "outputs": [],
   "source": [
    "# Celda 7\n",
    "from sklearn.ensemble import BaggingClassifier\n",
    "clf = BaggingClassifier(\n",
    "    base_estimator=DecisionTreeClassifier(), \n",
    "    n_estimators=100).fit(X_train, y_train)"
   ]
  },
  {
   "cell_type": "code",
   "execution_count": 164,
   "metadata": {},
   "outputs": [
    {
     "name": "stdout",
     "output_type": "stream",
     "text": [
      "[0.6077969089464849]\n",
      "[0.6177777777777778]\n"
     ]
    }
   ],
   "source": [
    "y_pred = clf.predict(X_test)\n",
    "f1_scoreCLF1=[]\n",
    "accuracy_scoresCLF1=[]\n",
    "\n",
    "accuracy_scoresCLF1.append(cross_val_score(LR100, X_train, y_train, cv=10, scoring='accuracy').mean())\n",
    "f1_scoreCLF1.append(cross_val_score(LR100, X_train, y_train, cv=10, scoring='f1').mean())\n",
    "print(f1_scoreCLF1)\n",
    "print(accuracy_scoresCLF1)"
   ]
  },
  {
   "cell_type": "markdown",
   "metadata": {},
   "source": [
    "## 100 Árboles de decisión con max_depth=2"
   ]
  },
  {
   "cell_type": "code",
   "execution_count": 138,
   "metadata": {},
   "outputs": [],
   "source": [
    "clf2 = BaggingClassifier(\n",
    "    base_estimator=DecisionTreeClassifier( max_depth=2), \n",
    "    n_estimators=100).fit(X_train, y_train)"
   ]
  },
  {
   "cell_type": "code",
   "execution_count": 163,
   "metadata": {},
   "outputs": [
    {
     "name": "stdout",
     "output_type": "stream",
     "text": [
      "[0.6071505981909098]\n",
      "[0.6173333333333333]\n"
     ]
    }
   ],
   "source": [
    "y_pred = clf2.predict(X_test)\n",
    "f1_scoreCLF2=[]\n",
    "accuracy_scoresCLF2=[]\n",
    "\n",
    "accuracy_scoresCLF2.append(cross_val_score(LR100, X_train, y_train, cv=10, scoring='accuracy').mean())\n",
    "f1_scoreCLF2.append(cross_val_score(LR100, X_train, y_train, cv=10, scoring='f1').mean())\n",
    "print(f1_scoreCLF2)\n",
    "print(accuracy_scoresCLF2)"
   ]
  },
  {
   "cell_type": "markdown",
   "metadata": {},
   "source": [
    "## 100 Regresiones Logísticas"
   ]
  },
  {
   "cell_type": "code",
   "execution_count": 149,
   "metadata": {},
   "outputs": [],
   "source": [
    "from sklearn.linear_model import LinearRegression, LogisticRegression \n",
    "LR100 = BaggingClassifier(base_estimator=LogisticRegression(random_state=0), n_estimators=100).fit(X,y)\n",
    "                          \n",
    "                          "
   ]
  },
  {
   "cell_type": "code",
   "execution_count": 150,
   "metadata": {},
   "outputs": [
    {
     "data": {
      "text/plain": [
       "BaggingClassifier(base_estimator=LogisticRegression(random_state=0),\n",
       "                  n_estimators=100)"
      ]
     },
     "execution_count": 150,
     "metadata": {},
     "output_type": "execute_result"
    }
   ],
   "source": [
    "LR100.fit(X_train, y_train)"
   ]
  },
  {
   "cell_type": "code",
   "execution_count": 152,
   "metadata": {},
   "outputs": [
    {
     "data": {
      "text/plain": [
       "array([1, 1, 1, ..., 1, 0, 0])"
      ]
     },
     "execution_count": 152,
     "metadata": {},
     "output_type": "execute_result"
    }
   ],
   "source": [
    "y_pred = LR100.predict(X_test)"
   ]
  },
  {
   "cell_type": "code",
   "execution_count": 162,
   "metadata": {},
   "outputs": [
    {
     "name": "stdout",
     "output_type": "stream",
     "text": [
      "[0.6068739733945898]\n",
      "[0.6173333333333333]\n"
     ]
    }
   ],
   "source": [
    "f1_score2=[]\n",
    "accuracy_scores2=[]\n",
    "\n",
    "accuracy_scores2.append(cross_val_score(LR100, X_train, y_train, cv=10, scoring='accuracy').mean())\n",
    "f1_score2.append(cross_val_score(LR100, X_train, y_train, cv=10, scoring='f1').mean())\n",
    "print(f1_score2)\n",
    "print(accuracy_scores2)"
   ]
  },
  {
   "cell_type": "markdown",
   "metadata": {},
   "source": [
    "### Punto 8 - Votación Ponderada\n",
    "En la celda 8 elabore un ensamble con la metodología de **Votación ponderada** compuesto por 300 muestras bagged para los mismos tres escenarios del punto 7. Evalúe los modelos utilizando las métricas de Accuracy y F1-Score"
   ]
  },
  {
   "cell_type": "code",
   "execution_count": 161,
   "metadata": {},
   "outputs": [
    {
     "name": "stdout",
     "output_type": "stream",
     "text": [
      "[0.6330671428062598]\n",
      "[0.6335555555555554]\n"
     ]
    }
   ],
   "source": [
    "# Celda 8\n",
    "f1_score3=[]\n",
    "accuracy_scores3=[]\n",
    "\n",
    "VP = BaggingClassifier(base_estimator=DecisionTreeClassifier(), n_estimators=300, bootstrap=True,\n",
    "                        random_state=42, n_jobs=-1, oob_score=True)\n",
    "\n",
    "VP.fit(X_train, y_train)\n",
    "y_pred = VP.predict(X_test)\n",
    "accuracy_scores3.append(cross_val_score(VP, X_train, y_train, cv=10, scoring='accuracy').mean())\n",
    "f1_score3.append(cross_val_score(VP, X_train, y_train, cv=10, scoring='f1').mean())\n",
    "print(f1_score3)\n",
    "print(accuracy_scores3)"
   ]
  },
  {
   "cell_type": "code",
   "execution_count": 167,
   "metadata": {},
   "outputs": [],
   "source": [
    "F1= [f1_scoreCLF1, f1_scoreCLF2, f1_score2,f1_score3]\n",
    "ACC=[accuracy_scoresCLF1,accuracy_scoresCLF2, accuracy_scores2,accuracy_scores3]"
   ]
  },
  {
   "cell_type": "code",
   "execution_count": 177,
   "metadata": {},
   "outputs": [
    {
     "data": {
      "text/plain": [
       "Text(0, 0.5, 'Accuracy')"
      ]
     },
     "execution_count": 177,
     "metadata": {},
     "output_type": "execute_result"
    },
    {
     "data": {
      "image/png": "[encoded data removed]",
      "text/plain": [
       "<Figure size 432x288 with 1 Axes>"
      ]
     },
     "metadata": {
      "needs_background": "light"
     },
     "output_type": "display_data"
    }
   ],
   "source": [
    "plt.scatter(F1[0],ACC[0])\n",
    "plt.scatter(F1[1],ACC[1])\n",
    "plt.scatter(F1[2],ACC[2])\n",
    "plt.scatter(F1[3],ACC[3])\n",
    "plt.legend(['Arbol','Arbol100','RegLog', \"VotPond\"])\n",
    "plt.show\n",
    "plt.xlabel('F1')\n",
    "plt.ylabel('Accuracy')"
   ]
  },
  {
   "cell_type": "markdown",
   "metadata": {},
   "source": [
    "### Punto 9 - Comparación y análisis de resultados\n",
    "En la celda 9 comente sobre los resultados obtenidos con las metodologías usadas en los puntos 7 y 8, compare los resultados y enuncie posibles ventajas o desventajas de cada una de ellas."
   ]
  },
  {
   "cell_type": "markdown",
   "metadata": {},
   "source": [
    "# CONCLUSIONES\n",
    "\n",
    "Los resultados de los modelos de ensamble que combinan clasificadores, permite observar que el de mejor desempeño el modelo de **Votación Ponderada** con un _Acurracy_ = 0.633555 y un _F1_= 0.63306. Dado que este método a diferencia de **Votaciones Mayoritarias** prioriza con pesos a las iteraciones de mejor resultado dentro de las iteraciones realizadas."
   ]
  }
 ],
 "metadata": {
  "kernelspec": {
   "display_name": "Python 3 (ipykernel)",
   "language": "python",
   "name": "python3"
  },
  "language_info": {
   "codemirror_mode": {
    "name": "ipython",
    "version": 3
   },
   "file_extension": ".py",
   "mimetype": "text/x-python",
   "name": "python",
   "nbconvert_exporter": "python",
   "pygments_lexer": "ipython3",
   "version": "3.9.7"
  }
 },
 "nbformat": 4,
 "nbformat_minor": 4
}
